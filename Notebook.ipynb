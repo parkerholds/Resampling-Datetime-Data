{
 "cells": [
  {
   "cell_type": "code",
   "execution_count": 433,
   "id": "b831fd8d-6a8a-44bd-80b6-c960f8f0f21c",
   "metadata": {},
   "outputs": [],
   "source": [
    "import pandas as pd\n",
    "import matplotlib.pyplot as plt\n",
    "import seaborn as sns\n",
    "import numpy as np\n"
   ]
  },
  {
   "cell_type": "code",
   "execution_count": 434,
   "id": "01d24998-2b0a-45d4-ab32-570b7e991d02",
   "metadata": {},
   "outputs": [],
   "source": [
    "fpath = \"Data/london_weather_MODIFIED - london_weather_MODIFIED.csv\""
   ]
  },
  {
   "cell_type": "code",
   "execution_count": 435,
   "id": "b8058a0c-9a90-475e-b0b0-e0c72b2366e4",
   "metadata": {},
   "outputs": [],
   "source": [
    "df = pd.read_csv(fpath)"
   ]
  },
  {
   "cell_type": "code",
   "execution_count": 436,
   "id": "242f1a14-bc79-4c4e-ba29-136968ed1bbe",
   "metadata": {},
   "outputs": [
    {
     "data": {
      "text/html": [
       "<div>\n",
       "<style scoped>\n",
       "    .dataframe tbody tr th:only-of-type {\n",
       "        vertical-align: middle;\n",
       "    }\n",
       "\n",
       "    .dataframe tbody tr th {\n",
       "        vertical-align: top;\n",
       "    }\n",
       "\n",
       "    .dataframe thead th {\n",
       "        text-align: right;\n",
       "    }\n",
       "</style>\n",
       "<table border=\"1\" class=\"dataframe\">\n",
       "  <thead>\n",
       "    <tr style=\"text-align: right;\">\n",
       "      <th></th>\n",
       "      <th>date</th>\n",
       "      <th>cloud_cover</th>\n",
       "      <th>sunshine</th>\n",
       "      <th>global_radiation</th>\n",
       "      <th>max_temp</th>\n",
       "      <th>mean_temp</th>\n",
       "      <th>min_temp</th>\n",
       "      <th>precipitation</th>\n",
       "      <th>pressure</th>\n",
       "      <th>snow_depth</th>\n",
       "    </tr>\n",
       "  </thead>\n",
       "  <tbody>\n",
       "    <tr>\n",
       "      <th>0</th>\n",
       "      <td>19790101</td>\n",
       "      <td>2.0</td>\n",
       "      <td>7.0</td>\n",
       "      <td>52.0</td>\n",
       "      <td>2.3</td>\n",
       "      <td>-4.1</td>\n",
       "      <td>-7.5</td>\n",
       "      <td>0.4</td>\n",
       "      <td>101900.0</td>\n",
       "      <td>9.0</td>\n",
       "    </tr>\n",
       "    <tr>\n",
       "      <th>1</th>\n",
       "      <td>19790102</td>\n",
       "      <td>6.0</td>\n",
       "      <td>1.7</td>\n",
       "      <td>27.0</td>\n",
       "      <td>1.6</td>\n",
       "      <td>-2.6</td>\n",
       "      <td>-7.5</td>\n",
       "      <td>0.0</td>\n",
       "      <td>102530.0</td>\n",
       "      <td>8.0</td>\n",
       "    </tr>\n",
       "    <tr>\n",
       "      <th>2</th>\n",
       "      <td>19790103</td>\n",
       "      <td>5.0</td>\n",
       "      <td>0.0</td>\n",
       "      <td>13.0</td>\n",
       "      <td>1.3</td>\n",
       "      <td>-2.8</td>\n",
       "      <td>-7.2</td>\n",
       "      <td>0.0</td>\n",
       "      <td>102050.0</td>\n",
       "      <td>4.0</td>\n",
       "    </tr>\n",
       "    <tr>\n",
       "      <th>3</th>\n",
       "      <td>19790104</td>\n",
       "      <td>8.0</td>\n",
       "      <td>0.0</td>\n",
       "      <td>13.0</td>\n",
       "      <td>-0.3</td>\n",
       "      <td>-2.6</td>\n",
       "      <td>-6.5</td>\n",
       "      <td>0.0</td>\n",
       "      <td>100840.0</td>\n",
       "      <td>2.0</td>\n",
       "    </tr>\n",
       "    <tr>\n",
       "      <th>4</th>\n",
       "      <td>19790105</td>\n",
       "      <td>6.0</td>\n",
       "      <td>2.0</td>\n",
       "      <td>29.0</td>\n",
       "      <td>5.6</td>\n",
       "      <td>-0.8</td>\n",
       "      <td>-1.4</td>\n",
       "      <td>0.0</td>\n",
       "      <td>102250.0</td>\n",
       "      <td>1.0</td>\n",
       "    </tr>\n",
       "  </tbody>\n",
       "</table>\n",
       "</div>"
      ],
      "text/plain": [
       "       date  cloud_cover  sunshine  global_radiation  max_temp  mean_temp  \\\n",
       "0  19790101          2.0       7.0              52.0       2.3       -4.1   \n",
       "1  19790102          6.0       1.7              27.0       1.6       -2.6   \n",
       "2  19790103          5.0       0.0              13.0       1.3       -2.8   \n",
       "3  19790104          8.0       0.0              13.0      -0.3       -2.6   \n",
       "4  19790105          6.0       2.0              29.0       5.6       -0.8   \n",
       "\n",
       "   min_temp  precipitation  pressure  snow_depth  \n",
       "0      -7.5            0.4  101900.0         9.0  \n",
       "1      -7.5            0.0  102530.0         8.0  \n",
       "2      -7.2            0.0  102050.0         4.0  \n",
       "3      -6.5            0.0  100840.0         2.0  \n",
       "4      -1.4            0.0  102250.0         1.0  "
      ]
     },
     "execution_count": 436,
     "metadata": {},
     "output_type": "execute_result"
    }
   ],
   "source": [
    "df.head()"
   ]
  },
  {
   "cell_type": "code",
   "execution_count": 437,
   "id": "707b41bc-a8e8-4e5e-aef7-9f21a51c0b92",
   "metadata": {},
   "outputs": [
    {
     "name": "stdout",
     "output_type": "stream",
     "text": [
      "<class 'pandas.core.frame.DataFrame'>\n",
      "RangeIndex: 15341 entries, 0 to 15340\n",
      "Data columns (total 10 columns):\n",
      " #   Column            Non-Null Count  Dtype  \n",
      "---  ------            --------------  -----  \n",
      " 0   date              15341 non-null  int64  \n",
      " 1   cloud_cover       14938 non-null  float64\n",
      " 2   sunshine          14957 non-null  float64\n",
      " 3   global_radiation  14939 non-null  float64\n",
      " 4   max_temp          14951 non-null  float64\n",
      " 5   mean_temp         14922 non-null  float64\n",
      " 6   min_temp          14955 non-null  float64\n",
      " 7   precipitation     14951 non-null  float64\n",
      " 8   pressure          14953 non-null  float64\n",
      " 9   snow_depth        13589 non-null  float64\n",
      "dtypes: float64(9), int64(1)\n",
      "memory usage: 1.2 MB\n"
     ]
    }
   ],
   "source": [
    "df.info()"
   ]
  },
  {
   "cell_type": "code",
   "execution_count": 438,
   "id": "47b9a3e4-b610-47fb-ab60-f59aa8f4d692",
   "metadata": {},
   "outputs": [],
   "source": [
    "df['date_format'] = pd.to_datetime(df['date'], format='%Y%m%d')"
   ]
  },
  {
   "cell_type": "code",
   "execution_count": 439,
   "id": "a584de8e-30f1-4b85-b02e-1bf7069bb69b",
   "metadata": {},
   "outputs": [
    {
     "name": "stdout",
     "output_type": "stream",
     "text": [
      "<class 'pandas.core.frame.DataFrame'>\n",
      "RangeIndex: 15341 entries, 0 to 15340\n",
      "Data columns (total 11 columns):\n",
      " #   Column            Non-Null Count  Dtype         \n",
      "---  ------            --------------  -----         \n",
      " 0   date              15341 non-null  int64         \n",
      " 1   cloud_cover       14938 non-null  float64       \n",
      " 2   sunshine          14957 non-null  float64       \n",
      " 3   global_radiation  14939 non-null  float64       \n",
      " 4   max_temp          14951 non-null  float64       \n",
      " 5   mean_temp         14922 non-null  float64       \n",
      " 6   min_temp          14955 non-null  float64       \n",
      " 7   precipitation     14951 non-null  float64       \n",
      " 8   pressure          14953 non-null  float64       \n",
      " 9   snow_depth        13589 non-null  float64       \n",
      " 10  date_format       15341 non-null  datetime64[ns]\n",
      "dtypes: datetime64[ns](1), float64(9), int64(1)\n",
      "memory usage: 1.3 MB\n"
     ]
    }
   ],
   "source": [
    "df.info()"
   ]
  },
  {
   "cell_type": "code",
   "execution_count": 440,
   "id": "23721d8e-2826-4cd2-8a8b-9cace81ebbfd",
   "metadata": {},
   "outputs": [],
   "source": [
    "df = df.drop(columns=['date'])"
   ]
  },
  {
   "cell_type": "code",
   "execution_count": 441,
   "id": "7671449a-fe7c-4d39-9dd2-fa92e0356883",
   "metadata": {},
   "outputs": [],
   "source": [
    "df = df.set_index('date_format')"
   ]
  },
  {
   "cell_type": "code",
   "execution_count": 442,
   "id": "aff4fcb1-c526-47d7-80ba-28d57bde159d",
   "metadata": {},
   "outputs": [
    {
     "data": {
      "text/html": [
       "<div>\n",
       "<style scoped>\n",
       "    .dataframe tbody tr th:only-of-type {\n",
       "        vertical-align: middle;\n",
       "    }\n",
       "\n",
       "    .dataframe tbody tr th {\n",
       "        vertical-align: top;\n",
       "    }\n",
       "\n",
       "    .dataframe thead th {\n",
       "        text-align: right;\n",
       "    }\n",
       "</style>\n",
       "<table border=\"1\" class=\"dataframe\">\n",
       "  <thead>\n",
       "    <tr style=\"text-align: right;\">\n",
       "      <th></th>\n",
       "      <th>cloud_cover</th>\n",
       "      <th>sunshine</th>\n",
       "      <th>global_radiation</th>\n",
       "      <th>max_temp</th>\n",
       "      <th>mean_temp</th>\n",
       "      <th>min_temp</th>\n",
       "      <th>precipitation</th>\n",
       "      <th>pressure</th>\n",
       "      <th>snow_depth</th>\n",
       "    </tr>\n",
       "    <tr>\n",
       "      <th>date_format</th>\n",
       "      <th></th>\n",
       "      <th></th>\n",
       "      <th></th>\n",
       "      <th></th>\n",
       "      <th></th>\n",
       "      <th></th>\n",
       "      <th></th>\n",
       "      <th></th>\n",
       "      <th></th>\n",
       "    </tr>\n",
       "  </thead>\n",
       "  <tbody>\n",
       "    <tr>\n",
       "      <th>1979-01-01</th>\n",
       "      <td>2.0</td>\n",
       "      <td>7.0</td>\n",
       "      <td>52.0</td>\n",
       "      <td>2.3</td>\n",
       "      <td>-4.1</td>\n",
       "      <td>-7.5</td>\n",
       "      <td>0.4</td>\n",
       "      <td>101900.0</td>\n",
       "      <td>9.0</td>\n",
       "    </tr>\n",
       "    <tr>\n",
       "      <th>1979-01-02</th>\n",
       "      <td>6.0</td>\n",
       "      <td>1.7</td>\n",
       "      <td>27.0</td>\n",
       "      <td>1.6</td>\n",
       "      <td>-2.6</td>\n",
       "      <td>-7.5</td>\n",
       "      <td>0.0</td>\n",
       "      <td>102530.0</td>\n",
       "      <td>8.0</td>\n",
       "    </tr>\n",
       "    <tr>\n",
       "      <th>1979-01-03</th>\n",
       "      <td>5.0</td>\n",
       "      <td>0.0</td>\n",
       "      <td>13.0</td>\n",
       "      <td>1.3</td>\n",
       "      <td>-2.8</td>\n",
       "      <td>-7.2</td>\n",
       "      <td>0.0</td>\n",
       "      <td>102050.0</td>\n",
       "      <td>4.0</td>\n",
       "    </tr>\n",
       "    <tr>\n",
       "      <th>1979-01-04</th>\n",
       "      <td>8.0</td>\n",
       "      <td>0.0</td>\n",
       "      <td>13.0</td>\n",
       "      <td>-0.3</td>\n",
       "      <td>-2.6</td>\n",
       "      <td>-6.5</td>\n",
       "      <td>0.0</td>\n",
       "      <td>100840.0</td>\n",
       "      <td>2.0</td>\n",
       "    </tr>\n",
       "    <tr>\n",
       "      <th>1979-01-05</th>\n",
       "      <td>6.0</td>\n",
       "      <td>2.0</td>\n",
       "      <td>29.0</td>\n",
       "      <td>5.6</td>\n",
       "      <td>-0.8</td>\n",
       "      <td>-1.4</td>\n",
       "      <td>0.0</td>\n",
       "      <td>102250.0</td>\n",
       "      <td>1.0</td>\n",
       "    </tr>\n",
       "  </tbody>\n",
       "</table>\n",
       "</div>"
      ],
      "text/plain": [
       "             cloud_cover  sunshine  global_radiation  max_temp  mean_temp  \\\n",
       "date_format                                                                 \n",
       "1979-01-01           2.0       7.0              52.0       2.3       -4.1   \n",
       "1979-01-02           6.0       1.7              27.0       1.6       -2.6   \n",
       "1979-01-03           5.0       0.0              13.0       1.3       -2.8   \n",
       "1979-01-04           8.0       0.0              13.0      -0.3       -2.6   \n",
       "1979-01-05           6.0       2.0              29.0       5.6       -0.8   \n",
       "\n",
       "             min_temp  precipitation  pressure  snow_depth  \n",
       "date_format                                                 \n",
       "1979-01-01       -7.5            0.4  101900.0         9.0  \n",
       "1979-01-02       -7.5            0.0  102530.0         8.0  \n",
       "1979-01-03       -7.2            0.0  102050.0         4.0  \n",
       "1979-01-04       -6.5            0.0  100840.0         2.0  \n",
       "1979-01-05       -1.4            0.0  102250.0         1.0  "
      ]
     },
     "execution_count": 442,
     "metadata": {},
     "output_type": "execute_result"
    }
   ],
   "source": [
    "df.head()"
   ]
  },
  {
   "cell_type": "code",
   "execution_count": 443,
   "id": "87fa1c78-b017-474f-84d0-61e7ef41bc4e",
   "metadata": {},
   "outputs": [
    {
     "data": {
      "text/html": [
       "<div>\n",
       "<style scoped>\n",
       "    .dataframe tbody tr th:only-of-type {\n",
       "        vertical-align: middle;\n",
       "    }\n",
       "\n",
       "    .dataframe tbody tr th {\n",
       "        vertical-align: top;\n",
       "    }\n",
       "\n",
       "    .dataframe thead th {\n",
       "        text-align: right;\n",
       "    }\n",
       "</style>\n",
       "<table border=\"1\" class=\"dataframe\">\n",
       "  <thead>\n",
       "    <tr style=\"text-align: right;\">\n",
       "      <th></th>\n",
       "      <th>precipitation</th>\n",
       "      <th>mean_temp</th>\n",
       "      <th>min_temp</th>\n",
       "      <th>max_temp</th>\n",
       "      <th>snow_depth</th>\n",
       "    </tr>\n",
       "    <tr>\n",
       "      <th>date_format</th>\n",
       "      <th></th>\n",
       "      <th></th>\n",
       "      <th></th>\n",
       "      <th></th>\n",
       "      <th></th>\n",
       "    </tr>\n",
       "  </thead>\n",
       "  <tbody>\n",
       "    <tr>\n",
       "      <th>2000-01-01</th>\n",
       "      <td>0.0</td>\n",
       "      <td>7.0</td>\n",
       "      <td>4.9</td>\n",
       "      <td>10.8</td>\n",
       "      <td>0.0</td>\n",
       "    </tr>\n",
       "    <tr>\n",
       "      <th>2000-01-02</th>\n",
       "      <td>0.2</td>\n",
       "      <td>7.9</td>\n",
       "      <td>5.0</td>\n",
       "      <td>11.5</td>\n",
       "      <td>0.0</td>\n",
       "    </tr>\n",
       "    <tr>\n",
       "      <th>2000-01-03</th>\n",
       "      <td>6.0</td>\n",
       "      <td>9.4</td>\n",
       "      <td>7.2</td>\n",
       "      <td>9.5</td>\n",
       "      <td>0.0</td>\n",
       "    </tr>\n",
       "    <tr>\n",
       "      <th>2000-01-04</th>\n",
       "      <td>0.2</td>\n",
       "      <td>7.0</td>\n",
       "      <td>4.4</td>\n",
       "      <td>11.0</td>\n",
       "      <td>0.0</td>\n",
       "    </tr>\n",
       "    <tr>\n",
       "      <th>2000-01-05</th>\n",
       "      <td>0.8</td>\n",
       "      <td>6.4</td>\n",
       "      <td>1.9</td>\n",
       "      <td>10.8</td>\n",
       "      <td>0.0</td>\n",
       "    </tr>\n",
       "  </tbody>\n",
       "</table>\n",
       "</div>"
      ],
      "text/plain": [
       "             precipitation  mean_temp  min_temp  max_temp  snow_depth\n",
       "date_format                                                          \n",
       "2000-01-01             0.0        7.0       4.9      10.8         0.0\n",
       "2000-01-02             0.2        7.9       5.0      11.5         0.0\n",
       "2000-01-03             6.0        9.4       7.2       9.5         0.0\n",
       "2000-01-04             0.2        7.0       4.4      11.0         0.0\n",
       "2000-01-05             0.8        6.4       1.9      10.8         0.0"
      ]
     },
     "execution_count": 443,
     "metadata": {},
     "output_type": "execute_result"
    }
   ],
   "source": [
    "df = df.loc['2000':,['precipitation','mean_temp','min_temp',\n",
    "                            'max_temp','snow_depth',]]\n",
    "df.head()"
   ]
  },
  {
   "cell_type": "code",
   "execution_count": 444,
   "id": "ea5d310d-7fd8-4e8c-b1f1-1ddff2dcf4ac",
   "metadata": {},
   "outputs": [
    {
     "name": "stdout",
     "output_type": "stream",
     "text": [
      "<class 'pandas.core.frame.DataFrame'>\n",
      "DatetimeIndex: 7671 entries, 2000-01-01 to 2020-12-31\n",
      "Data columns (total 5 columns):\n",
      " #   Column         Non-Null Count  Dtype  \n",
      "---  ------         --------------  -----  \n",
      " 0   precipitation  7281 non-null   float64\n",
      " 1   mean_temp      7252 non-null   float64\n",
      " 2   min_temp       7285 non-null   float64\n",
      " 3   max_temp       7281 non-null   float64\n",
      " 4   snow_depth     5919 non-null   float64\n",
      "dtypes: float64(5)\n",
      "memory usage: 359.6 KB\n"
     ]
    }
   ],
   "source": [
    "df.info()"
   ]
  },
  {
   "cell_type": "code",
   "execution_count": 445,
   "id": "fe6865db-d70a-4406-948e-9139a499aa4f",
   "metadata": {},
   "outputs": [
    {
     "data": {
      "text/plain": [
       "precipitation     390\n",
       "mean_temp         419\n",
       "min_temp          386\n",
       "max_temp          390\n",
       "snow_depth       1752\n",
       "dtype: int64"
      ]
     },
     "execution_count": 445,
     "metadata": {},
     "output_type": "execute_result"
    }
   ],
   "source": [
    "df.isna().sum()"
   ]
  },
  {
   "cell_type": "code",
   "execution_count": 446,
   "id": "76007fd1-7681-440b-b2a4-13ce8775f403",
   "metadata": {},
   "outputs": [],
   "source": [
    "df['min_temp'] = df['min_temp'].fillna(method='ffill')"
   ]
  },
  {
   "cell_type": "code",
   "execution_count": 447,
   "id": "877e3811-5bf4-4106-8019-1244c0591dca",
   "metadata": {},
   "outputs": [],
   "source": [
    "df['max_temp'] = df['max_temp'].fillna(method='bfill')"
   ]
  },
  {
   "cell_type": "code",
   "execution_count": 448,
   "id": "730818e5-745d-4272-9f83-5b81c6595f92",
   "metadata": {},
   "outputs": [],
   "source": [
    "df['precipitation'] = df['precipitation'].interpolate()"
   ]
  },
  {
   "cell_type": "code",
   "execution_count": 449,
   "id": "2fb7c74e-cc54-4712-8db6-2c68f25a37dc",
   "metadata": {},
   "outputs": [],
   "source": [
    "df['snow_depth'] = df['snow_depth'].fillna(method='ffill')"
   ]
  },
  {
   "cell_type": "code",
   "execution_count": 450,
   "id": "65ca94e1-c6c5-4c63-9d94-40110ccb8f29",
   "metadata": {},
   "outputs": [],
   "source": [
    "df['mean_temp'] = df['mean_temp'].interpolate()"
   ]
  },
  {
   "cell_type": "code",
   "execution_count": 451,
   "id": "13e1ca32-2ad3-40c6-b402-c32716adc243",
   "metadata": {},
   "outputs": [
    {
     "data": {
      "text/plain": [
       "precipitation    0.0\n",
       "mean_temp        0.0\n",
       "min_temp         0.0\n",
       "max_temp         0.0\n",
       "snow_depth       0.0\n",
       "dtype: float64"
      ]
     },
     "execution_count": 451,
     "metadata": {},
     "output_type": "execute_result"
    }
   ],
   "source": [
    "df.isna().sum() /len(df) * 100"
   ]
  },
  {
   "cell_type": "code",
   "execution_count": 452,
   "id": "596289e6-36a2-4f8f-8f82-377d9efedee0",
   "metadata": {},
   "outputs": [
    {
     "data": {
      "text/plain": [
       "date_format\n",
       "2000-01-01    0.0\n",
       "2000-01-02    0.2\n",
       "2000-01-03    6.0\n",
       "2000-01-04    0.2\n",
       "2000-01-05    0.8\n",
       "             ... \n",
       "2020-12-27    2.0\n",
       "2020-12-28    0.2\n",
       "2020-12-29    0.0\n",
       "2020-12-30    0.0\n",
       "2020-12-31    0.0\n",
       "Name: precipitation, Length: 7671, dtype: float64"
      ]
     },
     "execution_count": 452,
     "metadata": {},
     "output_type": "execute_result"
    }
   ],
   "source": [
    "q1 = df['precipitation'].copy()\n",
    "q1"
   ]
  },
  {
   "cell_type": "code",
   "execution_count": 453,
   "id": "a446350a-6999-4955-b994-4b0a2a5209e1",
   "metadata": {},
   "outputs": [
    {
     "name": "stdout",
     "output_type": "stream",
     "text": [
      "<class 'pandas.core.series.Series'>\n",
      "DatetimeIndex: 7671 entries, 2000-01-01 to 2020-12-31\n",
      "Series name: precipitation\n",
      "Non-Null Count  Dtype  \n",
      "--------------  -----  \n",
      "7671 non-null   float64\n",
      "dtypes: float64(1)\n",
      "memory usage: 119.9 KB\n"
     ]
    }
   ],
   "source": [
    "q1.info()"
   ]
  },
  {
   "cell_type": "code",
   "execution_count": 454,
   "id": "df8904f5-436d-4319-8aa3-606b8d04f599",
   "metadata": {},
   "outputs": [
    {
     "data": {
      "text/plain": [
       "DatetimeIndex(['2000-01-01', '2000-01-02', '2000-01-03', '2000-01-04',\n",
       "               '2000-01-05', '2000-01-06', '2000-01-07', '2000-01-08',\n",
       "               '2000-01-09', '2000-01-10',\n",
       "               ...\n",
       "               '2020-12-22', '2020-12-23', '2020-12-24', '2020-12-25',\n",
       "               '2020-12-26', '2020-12-27', '2020-12-28', '2020-12-29',\n",
       "               '2020-12-30', '2020-12-31'],\n",
       "              dtype='datetime64[ns]', name='date_format', length=7671, freq=None)"
      ]
     },
     "execution_count": 454,
     "metadata": {},
     "output_type": "execute_result"
    }
   ],
   "source": [
    "q1.index"
   ]
  },
  {
   "cell_type": "code",
   "execution_count": 455,
   "id": "12637b64-4624-40e9-a924-01a84344acef",
   "metadata": {},
   "outputs": [
    {
     "data": {
      "text/plain": [
       "date_format\n",
       "2000-01-01    0.0\n",
       "2000-01-02    0.2\n",
       "2000-01-03    6.0\n",
       "2000-01-04    0.2\n",
       "2000-01-05    0.8\n",
       "             ... \n",
       "2020-12-27    2.0\n",
       "2020-12-28    0.2\n",
       "2020-12-29    0.0\n",
       "2020-12-30    0.0\n",
       "2020-12-31    0.0\n",
       "Freq: D, Name: precipitation, Length: 7671, dtype: float64"
      ]
     },
     "execution_count": 455,
     "metadata": {},
     "output_type": "execute_result"
    }
   ],
   "source": [
    "q1 = q1.asfreq('D')\n",
    "q1"
   ]
  },
  {
   "cell_type": "code",
   "execution_count": 487,
   "id": "6a73cbe7-25ef-4f43-955b-18fdbba64697",
   "metadata": {},
   "outputs": [],
   "source": [
    "q1 = df['precipitation'].copy()"
   ]
  },
  {
   "cell_type": "markdown",
   "id": "14faab89-4dee-4b44-8ab7-d952f5597d9d",
   "metadata": {},
   "source": [
    "## Question 1"
   ]
  },
  {
   "cell_type": "code",
   "execution_count": 488,
   "id": "d0f6fabd-ce15-41d1-b812-08ea2cd43bdc",
   "metadata": {},
   "outputs": [
    {
     "data": {
      "text/plain": [
       "date_format\n",
       "2000-01-31    14.5\n",
       "2000-02-29    64.8\n",
       "2000-03-31    13.9\n",
       "2000-04-30    82.5\n",
       "2000-05-31    78.0\n",
       "Freq: M, Name: Resampled, dtype: float64"
      ]
     },
     "execution_count": 488,
     "metadata": {},
     "output_type": "execute_result"
    }
   ],
   "source": [
    "q1_M = q1.resample('M').sum()\n",
    "q1_M.name = 'Resampled'\n",
    "q1_M.head()"
   ]
  },
  {
   "cell_type": "code",
   "execution_count": 491,
   "id": "743ddcb1-b8fb-4cc9-a9f7-68cf321fc93f",
   "metadata": {},
   "outputs": [
    {
     "data": {
      "text/plain": [
       "Timestamp('2014-01-31 00:00:00', freq='M')"
      ]
     },
     "execution_count": 491,
     "metadata": {},
     "output_type": "execute_result"
    }
   ],
   "source": [
    "max_date = q1_M.idxmax()\n",
    "max_date"
   ]
  },
  {
   "cell_type": "code",
   "execution_count": 469,
   "id": "fa946309-071c-46ae-ac82-4226bf533613",
   "metadata": {},
   "outputs": [
    {
     "data": {
      "text/plain": [
       "153.6"
      ]
     },
     "execution_count": 469,
     "metadata": {},
     "output_type": "execute_result"
    }
   ],
   "source": [
    "q1_M.max()"
   ]
  },
  {
   "cell_type": "code",
   "execution_count": 475,
   "id": "2b04b023-7e38-476b-aa62-29624915e6f7",
   "metadata": {},
   "outputs": [],
   "source": [
    "import matplotlib.ticker as mticks\n",
    "import matplotlib.dates as mdates"
   ]
  },
  {
   "cell_type": "code",
   "execution_count": 497,
   "id": "58627322-4abf-488c-9588-c68c51d246b8",
   "metadata": {},
   "outputs": [],
   "source": [
    "## creating our tick locators and formatters\n",
    "# create the locator to place ticks every 3 months.\n",
    "loc_3months = mdates.MonthLocator(interval=1)\n",
    "# create the formatter to display 3-letter month names + 2-digit year\n",
    "fmt_months = mdates.DateFormatter(\"%B %Y\")\n",
    "\n"
   ]
  },
  {
   "cell_type": "code",
   "execution_count": 502,
   "id": "1405cd67-90cd-4863-95a1-087011d016f9",
   "metadata": {},
   "outputs": [
    {
     "data": {
      "text/plain": [
       "<matplotlib.legend.Legend at 0x2b81905d900>"
      ]
     },
     "execution_count": 502,
     "metadata": {},
     "output_type": "execute_result"
    },
    {
     "data": {
      "image/png": "[encoded data removed]",
      "text/plain": [
       "<Figure size 1200x300 with 1 Axes>"
      ]
     },
     "metadata": {},
     "output_type": "display_data"
    }
   ],
   "source": [
    "fig, ax = plt.subplots(figsize=(12,3))\n",
    "q1_M.plot(ax=ax,title='Precipitation for 2000-2010')\n",
    "#ax.xaxis.set_major_locator(fmt_months)\n",
    "#ax.xaxis.set_major_formatter(loc_3months)\n",
    "ax.axvline(max_date,color='red',label=f'Max {max_date.strftime(fmt)}');\n",
    "ax.set_ylabel('inches')\n",
    "ax.legend()"
   ]
  },
  {
   "cell_type": "code",
   "execution_count": 506,
   "id": "4b070941-6f37-4586-9bf7-52f25d54e66d",
   "metadata": {},
   "outputs": [],
   "source": [
    "## creating our tick locators and formatters\n",
    "## for minor month ticks\n",
    "# create the locator to place ticks every 3 months.\n",
    "loc_3months = mdates.MonthLocator(interval=3)\n",
    "fmt_months = mdates.DateFormatter(\"%b\")\n",
    "## for major year ticks\n",
    "loc_year = mdates.YearLocator()\n",
    "fmt_year = mdates.DateFormatter(\"%Y\")\n",
    "\n"
   ]
  },
  {
   "cell_type": "markdown",
   "id": "3d1a8755-f6f0-411e-97d9-eb277dda318e",
   "metadata": {},
   "source": [
    "## Question 1 A:\n",
    "- January 2014 was the higest precipitation month."
   ]
  },
  {
   "cell_type": "markdown",
   "id": "7bc8fe0f-4a89-419a-83df-e455a9b5ebff",
   "metadata": {},
   "source": [
    "## Question 2\n",
    "- Which year between 2000-2020 had the coolest average temperature?\r\n"
   ]
  },
  {
   "cell_type": "code",
   "execution_count": 508,
   "id": "fa0703bb-5f12-43d7-b9f5-64f20af25a4e",
   "metadata": {},
   "outputs": [
    {
     "data": {
      "text/html": [
       "<div>\n",
       "<style scoped>\n",
       "    .dataframe tbody tr th:only-of-type {\n",
       "        vertical-align: middle;\n",
       "    }\n",
       "\n",
       "    .dataframe tbody tr th {\n",
       "        vertical-align: top;\n",
       "    }\n",
       "\n",
       "    .dataframe thead th {\n",
       "        text-align: right;\n",
       "    }\n",
       "</style>\n",
       "<table border=\"1\" class=\"dataframe\">\n",
       "  <thead>\n",
       "    <tr style=\"text-align: right;\">\n",
       "      <th></th>\n",
       "      <th>mean_temp</th>\n",
       "    </tr>\n",
       "    <tr>\n",
       "      <th>date_format</th>\n",
       "      <th></th>\n",
       "    </tr>\n",
       "  </thead>\n",
       "  <tbody>\n",
       "    <tr>\n",
       "      <th>2000-01-01</th>\n",
       "      <td>7.0</td>\n",
       "    </tr>\n",
       "    <tr>\n",
       "      <th>2000-01-02</th>\n",
       "      <td>7.9</td>\n",
       "    </tr>\n",
       "    <tr>\n",
       "      <th>2000-01-03</th>\n",
       "      <td>9.4</td>\n",
       "    </tr>\n",
       "    <tr>\n",
       "      <th>2000-01-04</th>\n",
       "      <td>7.0</td>\n",
       "    </tr>\n",
       "    <tr>\n",
       "      <th>2000-01-05</th>\n",
       "      <td>6.4</td>\n",
       "    </tr>\n",
       "    <tr>\n",
       "      <th>...</th>\n",
       "      <td>...</td>\n",
       "    </tr>\n",
       "    <tr>\n",
       "      <th>2020-12-27</th>\n",
       "      <td>7.5</td>\n",
       "    </tr>\n",
       "    <tr>\n",
       "      <th>2020-12-28</th>\n",
       "      <td>1.1</td>\n",
       "    </tr>\n",
       "    <tr>\n",
       "      <th>2020-12-29</th>\n",
       "      <td>2.6</td>\n",
       "    </tr>\n",
       "    <tr>\n",
       "      <th>2020-12-30</th>\n",
       "      <td>2.7</td>\n",
       "    </tr>\n",
       "    <tr>\n",
       "      <th>2020-12-31</th>\n",
       "      <td>-0.8</td>\n",
       "    </tr>\n",
       "  </tbody>\n",
       "</table>\n",
       "<p>7671 rows × 1 columns</p>\n",
       "</div>"
      ],
      "text/plain": [
       "             mean_temp\n",
       "date_format           \n",
       "2000-01-01         7.0\n",
       "2000-01-02         7.9\n",
       "2000-01-03         9.4\n",
       "2000-01-04         7.0\n",
       "2000-01-05         6.4\n",
       "...                ...\n",
       "2020-12-27         7.5\n",
       "2020-12-28         1.1\n",
       "2020-12-29         2.6\n",
       "2020-12-30         2.7\n",
       "2020-12-31        -0.8\n",
       "\n",
       "[7671 rows x 1 columns]"
      ]
     },
     "execution_count": 508,
     "metadata": {},
     "output_type": "execute_result"
    }
   ],
   "source": [
    "q2 = df.loc['2000':'2020',['mean_temp']]\n",
    "q2"
   ]
  },
  {
   "cell_type": "code",
   "execution_count": 514,
   "id": "11516731-1638-45d6-9440-9c727dbeff01",
   "metadata": {},
   "outputs": [
    {
     "data": {
      "text/html": [
       "<div>\n",
       "<style scoped>\n",
       "    .dataframe tbody tr th:only-of-type {\n",
       "        vertical-align: middle;\n",
       "    }\n",
       "\n",
       "    .dataframe tbody tr th {\n",
       "        vertical-align: top;\n",
       "    }\n",
       "\n",
       "    .dataframe thead th {\n",
       "        text-align: right;\n",
       "    }\n",
       "</style>\n",
       "<table border=\"1\" class=\"dataframe\">\n",
       "  <thead>\n",
       "    <tr style=\"text-align: right;\">\n",
       "      <th></th>\n",
       "      <th>mean_temp</th>\n",
       "    </tr>\n",
       "    <tr>\n",
       "      <th>date_format</th>\n",
       "      <th></th>\n",
       "    </tr>\n",
       "  </thead>\n",
       "  <tbody>\n",
       "    <tr>\n",
       "      <th>2016-12-31</th>\n",
       "      <td>11.906284</td>\n",
       "    </tr>\n",
       "    <tr>\n",
       "      <th>2017-12-31</th>\n",
       "      <td>12.242466</td>\n",
       "    </tr>\n",
       "    <tr>\n",
       "      <th>2018-12-31</th>\n",
       "      <td>12.501370</td>\n",
       "    </tr>\n",
       "    <tr>\n",
       "      <th>2019-12-31</th>\n",
       "      <td>12.206164</td>\n",
       "    </tr>\n",
       "    <tr>\n",
       "      <th>2020-12-31</th>\n",
       "      <td>12.723634</td>\n",
       "    </tr>\n",
       "  </tbody>\n",
       "</table>\n",
       "</div>"
      ],
      "text/plain": [
       "             mean_temp\n",
       "date_format           \n",
       "2016-12-31   11.906284\n",
       "2017-12-31   12.242466\n",
       "2018-12-31   12.501370\n",
       "2019-12-31   12.206164\n",
       "2020-12-31   12.723634"
      ]
     },
     "execution_count": 514,
     "metadata": {},
     "output_type": "execute_result"
    }
   ],
   "source": [
    "q2_Y = q2.resample('Y').mean()\n",
    "q2_Y.name = 'Resampled'\n",
    "q2_Y.tail()"
   ]
  },
  {
   "cell_type": "code",
   "execution_count": 515,
   "id": "a8a99e12-b8b5-4749-862c-2836642d9c8f",
   "metadata": {},
   "outputs": [
    {
     "data": {
      "text/plain": [
       "mean_temp   2010-12-31\n",
       "dtype: datetime64[ns]"
      ]
     },
     "execution_count": 515,
     "metadata": {},
     "output_type": "execute_result"
    }
   ],
   "source": [
    "cool_year = q2_Y.idxmin()\n",
    "cool_year"
   ]
  },
  {
   "cell_type": "code",
   "execution_count": 542,
   "id": "284757a3-2680-4726-8b21-fb8b09f4b1bc",
   "metadata": {},
   "outputs": [
    {
     "data": {
      "image/png": "[encoded data removed]",
      "text/plain": [
       "<Figure size 640x480 with 1 Axes>"
      ]
     },
     "metadata": {},
     "output_type": "display_data"
    }
   ],
   "source": [
    "# Plot the coldest year\n",
    "fig, ax = plt.subplots()\n",
    "fmt = \"%Y\"\n",
    "ax.axvline(cool_year, color='blue', label=f'Coldest Year {2010}');\n",
    "ax.plot(q2_Y,color='black');\n",
    "ax.xaxis.set_major_locator(mdates.YearLocator(5))\n",
    "ax.xaxis.set_minor_locator(mdates.YearLocator(1))\n",
    "ax.set_title('Coldest Temperatures by Year')\n",
    "ax.set(xlabel='Year', ylabel='Average Temp(C)');\n",
    "ax.legend(bbox_to_anchor=[1,1]);"
   ]
  },
  {
   "cell_type": "markdown",
   "id": "fd157bbd-5a79-46bb-a8f4-fffafa7bbc82",
   "metadata": {},
   "source": [
    "## Q2 A:\n",
    "- Coldest average year was 2010"
   ]
  },
  {
   "cell_type": "code",
   "execution_count": null,
   "id": "759a76f1-bc77-43dd-95dc-44b76fbf348f",
   "metadata": {},
   "outputs": [],
   "source": []
  }
 ],
 "metadata": {
  "kernelspec": {
   "display_name": "Python 3 (ipykernel)",
   "language": "python",
   "name": "python3"
  },
  "language_info": {
   "codemirror_mode": {
    "name": "ipython",
    "version": 3
   },
   "file_extension": ".py",
   "mimetype": "text/x-python",
   "name": "python",
   "nbconvert_exporter": "python",
   "pygments_lexer": "ipython3",
   "version": "3.10.10"
  },
  "widgets": {
   "application/vnd.jupyter.widget-state+json": {
    "state": {},
    "version_major": 2,
    "version_minor": 0
   }
  }
 },
 "nbformat": 4,
 "nbformat_minor": 5
}
